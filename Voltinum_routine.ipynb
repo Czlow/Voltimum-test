{
 "cells": [
  {
   "cell_type": "markdown",
   "metadata": {
    "id": "kQaMwwgunSTm"
   },
   "source": [
    "# Import libraries and data"
   ]
  },
  {
   "cell_type": "code",
   "execution_count": 1,
   "metadata": {
    "executionInfo": {
     "elapsed": 877,
     "status": "ok",
     "timestamp": 1704894251756,
     "user": {
      "displayName": "Marcin Szaleniec",
      "userId": "17039422316955619877"
     },
     "user_tz": -60
    },
    "id": "iTJjskstnN60"
   },
   "outputs": [],
   "source": [
    "import numpy as np\n",
    "import pandas as pd"
   ]
  },
  {
   "cell_type": "code",
   "execution_count": 2,
   "metadata": {
    "executionInfo": {
     "elapsed": 3980,
     "status": "ok",
     "timestamp": 1704894259591,
     "user": {
      "displayName": "Marcin Szaleniec",
      "userId": "17039422316955619877"
     },
     "user_tz": -60
    },
    "id": "mx99qXkXncTD"
   },
   "outputs": [],
   "source": [
    "url = 'https://drive.google.com/file/d/1-lhxHcH5YGPDg28rJuivfO8q27wvfiEl/view'\n",
    "path = 'https://drive.google.com/uc?export=download&id='+url.split('/')[-2]\n",
    "raw = pd.read_csv(path)"
   ]
  },
  {
   "cell_type": "markdown",
   "metadata": {
    "id": "LLfijnVyn58P"
   },
   "source": [
    "Visits before 2023 won't be considered"
   ]
  },
  {
   "cell_type": "code",
   "execution_count": 3,
   "metadata": {
    "executionInfo": {
     "elapsed": 297,
     "status": "ok",
     "timestamp": 1704894360213,
     "user": {
      "displayName": "Marcin Szaleniec",
      "userId": "17039422316955619877"
     },
     "user_tz": -60
    },
    "id": "6uzsPjGwnyG6"
   },
   "outputs": [],
   "source": [
    "raw['date'] = pd.to_datetime(raw['date'])\n",
    "raw_2023 = raw[raw.date.dt.year==2023]"
   ]
  },
  {
   "cell_type": "markdown",
   "metadata": {
    "id": "kZiVhuJpnjl8"
   },
   "source": [
    "# Explode topics"
   ]
  },
  {
   "cell_type": "code",
   "execution_count": 4,
   "metadata": {
    "executionInfo": {
     "elapsed": 687,
     "status": "ok",
     "timestamp": 1704894368204,
     "user": {
      "displayName": "Marcin Szaleniec",
      "userId": "17039422316955619877"
     },
     "user_tz": -60
    },
    "id": "31BqlT78nnId"
   },
   "outputs": [],
   "source": [
    "raw_2023 = raw_2023.assign(\n",
    "    topic_cnt = raw_2023.topic.apply(lambda s:len(s.split(';'))),\n",
    "    topic = raw_2023.topic.str.split(';')\n",
    ")\n"
   ]
  },
  {
   "cell_type": "code",
   "execution_count": 5,
   "metadata": {
    "executionInfo": {
     "elapsed": 571,
     "status": "ok",
     "timestamp": 1704894413508,
     "user": {
      "displayName": "Marcin Szaleniec",
      "userId": "17039422316955619877"
     },
     "user_tz": -60
    },
    "id": "oFSzPH8Mntf5"
   },
   "outputs": [],
   "source": [
    "topic_expl = raw_2023.explode('topic')\n",
    "topic_expl.reset_index(inplace=True)\n",
    "topic_expl.drop('index', axis=1, inplace=True)"
   ]
  },
  {
   "cell_type": "markdown",
   "metadata": {
    "id": "Gg9eDFiVoaN6"
   },
   "source": [
    "# Sum up visits"
   ]
  },
  {
   "cell_type": "code",
   "execution_count": 6,
   "metadata": {
    "executionInfo": {
     "elapsed": 843,
     "status": "ok",
     "timestamp": 1704894745052,
     "user": {
      "displayName": "Marcin Szaleniec",
      "userId": "17039422316955619877"
     },
     "user_tz": -60
    },
    "id": "QlkaE6joodIq"
   },
   "outputs": [],
   "source": [
    "df = (topic_expl.groupby(['country', 'scv_id', 'source_system', 'topic']).count().iloc[:,0]).reset_index()\n",
    "df.rename(columns={df.columns[-1]:'events'}, inplace=True)"
   ]
  },
  {
   "cell_type": "code",
   "execution_count": 7,
   "metadata": {},
   "outputs": [],
   "source": [
    "df = (df.pivot(columns=['source_system'], index=['country', 'scv_id', 'topic'])\n",
    "      .reset_index()\n",
    "      .fillna(0)   \n",
    "     )"
   ]
  },
  {
   "cell_type": "code",
   "execution_count": 8,
   "metadata": {},
   "outputs": [],
   "source": [
    "df.columns = ['_'.join(c) for c in df.columns.to_flat_index()]\n",
    "cut_dash = lambda c: c[:len(c)-1] if c[-1]=='_' else c\n",
    "df.columns = [cut_dash(c) for c in df.columns]\n",
    "df['events'] = df.events_PX + df.events_activecampaign + df.events_catalogue"
   ]
  },
  {
   "cell_type": "markdown",
   "metadata": {
    "id": "yFrunPCqorqt"
   },
   "source": [
    "Knowing that the distribution of visits count is extremally right skewed, setting up treshhold above which all affinity scores will be set to maximum"
   ]
  },
  {
   "cell_type": "code",
   "execution_count": 9,
   "metadata": {
    "executionInfo": {
     "elapsed": 233,
     "status": "ok",
     "timestamp": 1704894746970,
     "user": {
      "displayName": "Marcin Szaleniec",
      "userId": "17039422316955619877"
     },
     "user_tz": -60
    },
    "id": "yCMsyLgaopD7"
   },
   "outputs": [],
   "source": [
    "def outlier_tresh(x):\n",
    "  multiplier = 4 #this may be edited\n",
    "  iqr = x.quantile(.75)-x.quantile(.25)\n",
    "  med = x.median()\n",
    "  return med+iqr*4"
   ]
  },
  {
   "cell_type": "code",
   "execution_count": 10,
   "metadata": {
    "executionInfo": {
     "elapsed": 224,
     "status": "ok",
     "timestamp": 1704894752836,
     "user": {
      "displayName": "Marcin Szaleniec",
      "userId": "17039422316955619877"
     },
     "user_tz": -60
    },
    "id": "u-3xNmoFpHuM"
   },
   "outputs": [],
   "source": [
    "tresh = outlier_tresh(df.events)"
   ]
  },
  {
   "cell_type": "markdown",
   "metadata": {
    "id": "n3sDZ4wSoI6h"
   },
   "source": [
    "# Build up schema\n",
    "Table with all scv_ids and all combination for source_system and topic"
   ]
  },
  {
   "cell_type": "code",
   "execution_count": 11,
   "metadata": {
    "executionInfo": {
     "elapsed": 233,
     "status": "ok",
     "timestamp": 1704894825128,
     "user": {
      "displayName": "Marcin Szaleniec",
      "userId": "17039422316955619877"
     },
     "user_tz": -60
    },
    "id": "VuPuEcGKoQOW"
   },
   "outputs": [],
   "source": [
    "topics = (df.groupby(['country', 'topic']).count().iloc[:,0]).reset_index()\n",
    "topics.drop(topics.columns[-1], axis=1, inplace=True)"
   ]
  },
  {
   "cell_type": "code",
   "execution_count": 12,
   "metadata": {
    "executionInfo": {
     "elapsed": 218,
     "status": "ok",
     "timestamp": 1704894836341,
     "user": {
      "displayName": "Marcin Szaleniec",
      "userId": "17039422316955619877"
     },
     "user_tz": -60
    },
    "id": "k7DE0g7rpofr"
   },
   "outputs": [],
   "source": [
    "ids = df['scv_id'].unique()"
   ]
  },
  {
   "cell_type": "markdown",
   "metadata": {
    "id": "VRzbKB_upxUq"
   },
   "source": [
    "Merging list of scv_ids, combination source_system and topic, and data"
   ]
  },
  {
   "cell_type": "code",
   "execution_count": 20,
   "metadata": {},
   "outputs": [],
   "source": [
    "result = (pd.DataFrame({'scv_id':ids}).merge(topics, how='cross')\n",
    "    .merge(df, on=['scv_id', 'topic', 'country'], how='left')\n",
    "    .fillna(0)\n",
    ")\n"
   ]
  },
  {
   "cell_type": "markdown",
   "metadata": {},
   "source": [
    "Shrink numbers"
   ]
  },
  {
   "cell_type": "code",
   "execution_count": 21,
   "metadata": {},
   "outputs": [],
   "source": [
    "result['events_PX'] = result['events_PX'].astype('int16')\n",
    "result['events_activecampaign'] = result['events_activecampaign'].astype('int16')\n",
    "result['events_catalogue'] = result['events_catalogue'].astype('int16')\n",
    "result['events'] = result['events'].astype('int16')\n",
    "result['scv_id'] = result['scv_id'].astype('int32')\n",
    "\n",
    "result['country'] = result['country'].astype('category')\n",
    "result['topic'] = result['topic'].astype('category')    "
   ]
  },
  {
   "cell_type": "markdown",
   "metadata": {
    "id": "hGYoI-uqqBEk"
   },
   "source": [
    "Assigning affinity rate, depending on number of events, regardless of source_system"
   ]
  },
  {
   "cell_type": "code",
   "execution_count": 22,
   "metadata": {
    "executionInfo": {
     "elapsed": 235,
     "status": "ok",
     "timestamp": 1704894998863,
     "user": {
      "displayName": "Marcin Szaleniec",
      "userId": "17039422316955619877"
     },
     "user_tz": -60
    },
    "id": "VZ8SIr2rqAqt"
   },
   "outputs": [],
   "source": [
    "result['affinity'] = (result.events*10/tresh)\n",
    "result['affinity'] = result['affinity'].clip(upper=10).astype('int8')"
   ]
  },
  {
   "cell_type": "code",
   "execution_count": 17,
   "metadata": {},
   "outputs": [],
   "source": [
    "# result100 = result.sample(n=100000)"
   ]
  },
  {
   "cell_type": "markdown",
   "metadata": {
    "id": "wfAEh9U8qcc9"
   },
   "source": [
    "# Saving results"
   ]
  },
  {
   "cell_type": "code",
   "execution_count": 24,
   "metadata": {
    "executionInfo": {
     "elapsed": 15479,
     "status": "ok",
     "timestamp": 1704895602400,
     "user": {
      "displayName": "Marcin Szaleniec",
      "userId": "17039422316955619877"
     },
     "user_tz": -60
    },
    "id": "VKiNO6aiqTHW"
   },
   "outputs": [],
   "source": [
    "result_path = ''\n",
    "result_filename = 'affinity'\n",
    "# result100.to_csv(result_path+result_filename+'.csv', index=False)\n",
    "result.to_csv(result_path+result_filename+'.csv', index=False)"
   ]
  },
  {
   "cell_type": "code",
   "execution_count": 23,
   "metadata": {},
   "outputs": [
    {
     "data": {
      "text/plain": [
       "Index                        132\n",
       "scv_id                   7813956\n",
       "country                  1953656\n",
       "topic                    1966297\n",
       "events_PX                3906978\n",
       "events_activecampaign    3906978\n",
       "events_catalogue         3906978\n",
       "events                   3906978\n",
       "affinity                 1953489\n",
       "dtype: int64"
      ]
     },
     "execution_count": 23,
     "metadata": {},
     "output_type": "execute_result"
    }
   ],
   "source": [
    "result.memory_usage(deep=True)"
   ]
  },
  {
   "cell_type": "code",
   "execution_count": null,
   "metadata": {},
   "outputs": [],
   "source": []
  }
 ],
 "metadata": {
  "colab": {
   "authorship_tag": "ABX9TyNBJ508nGAEbifIP9FQm2Pm",
   "provenance": []
  },
  "kernelspec": {
   "display_name": "Python 3 (ipykernel)",
   "language": "python",
   "name": "python3"
  },
  "language_info": {
   "codemirror_mode": {
    "name": "ipython",
    "version": 3
   },
   "file_extension": ".py",
   "mimetype": "text/x-python",
   "name": "python",
   "nbconvert_exporter": "python",
   "pygments_lexer": "ipython3",
   "version": "3.11.5"
  }
 },
 "nbformat": 4,
 "nbformat_minor": 1
}
